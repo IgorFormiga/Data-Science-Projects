{
 "cells": [
  {
   "cell_type": "markdown",
   "metadata": {},
   "source": [
    "<h1 style='color: green; font-size: 36px; font-weight: bold;'>Exploratory Data Analysis: Brasilian houses to rent</h1>"
   ]
  },
  {
   "cell_type": "markdown",
   "metadata": {},
   "source": [
    "## Importando Bibliotecas"
   ]
  },
  {
   "cell_type": "code",
   "execution_count": 27,
   "metadata": {},
   "outputs": [],
   "source": [
    "# Import das bibliotecas e setting de configurações \n",
    "import pandas as pd\n",
    "import numpy as np\n",
    "import seaborn as sns\n",
    "import matplotlib.pyplot as plt\n",
    "import scipy\n",
    "from sklearn.model_selection import train_test_split\n",
    "from sklearn.linear_model import LinearRegression\n",
    "from sklearn.ensemble import IsolationForest\n",
    "from sklearn.metrics import mean_absolute_error\n",
    "\n",
    "import warnings\n",
    "warnings.filterwarnings(\"ignore\")\n",
    "pd.set_option(\"display.max_columns\", 400)\n",
    "\n",
    "%matplotlib inline\n",
    "plt.rc('figure', figsize = (14, 6))\n"
   ]
  },
  {
   "cell_type": "markdown",
   "metadata": {},
   "source": [
    "## Dataset"
   ]
  },
  {
   "cell_type": "markdown",
   "metadata": {},
   "source": [
    "Fonte: https://www.kaggle.com/rubenssjr/brasilian-houses-to-rent"
   ]
  },
  {
   "cell_type": "markdown",
   "metadata": {},
   "source": [
    "### Descrição:"
   ]
  },
  {
   "cell_type": "markdown",
   "metadata": {},
   "source": [
    "O dataset contem 10692 casas para alugar (entries) com 13 classes diferentes (columns).\n",
    "\n",
    "### Dados:\n",
    "<ul style='font-size: 18px; line-height: 2; text-align: justify;'>\n",
    "    <li><b>0 city</b> - Cidade onde o imóvel está localizado</li>\n",
    "    <li><b>1 area</b> - area do imóvel (m²)</li>\n",
    "    <li><b>2 rooms</b> - número de quartos</li>\n",
    "    <li><b>3 bathroom</b> - quantidade de banheiros</li>\n",
    "    <li><b>4 parking spaces</b> - número de vagas de garagem</li>\n",
    "    <li><b>5 floor</b> - andar do apartamento</li>\n",
    "    <li><b>6 animal</b> - aceita animais (acept = Sim; not acept = Não)</li>\n",
    "    <li><b>7 furniture</b> - mobiliada (furnished = Sim; not furnished = Não)</li>\n",
    "    <li><b>8 hoa (R$)</b> - Valor do condominio (R$)</li>\n",
    "    <li><b>9 rent amount (R$)</b> - valor do aluguel (R$)</li>\n",
    "    <li><b>10  property tax (R$)</b> - IPTU (R$)</li>\n",
    "    <li><b>11  fire insurance (R$)</b> - Seguro de incendio (R$)</li>\n",
    "    <li><b>12  total (R$)</b> - Valor total do aluguel (R$)</li>"
   ]
  },
  {
   "cell_type": "markdown",
   "metadata": {},
   "source": [
    "### Leitura dos dados"
   ]
  },
  {
   "cell_type": "code",
   "execution_count": 2,
   "metadata": {},
   "outputs": [],
   "source": [
    "dataset = pd.read_csv('houses_to_rent_v2.csv', sep=',')"
   ]
  },
  {
   "cell_type": "code",
   "execution_count": 3,
   "metadata": {},
   "outputs": [
    {
     "data": {
      "text/html": [
       "<div>\n",
       "<style scoped>\n",
       "    .dataframe tbody tr th:only-of-type {\n",
       "        vertical-align: middle;\n",
       "    }\n",
       "\n",
       "    .dataframe tbody tr th {\n",
       "        vertical-align: top;\n",
       "    }\n",
       "\n",
       "    .dataframe thead th {\n",
       "        text-align: right;\n",
       "    }\n",
       "</style>\n",
       "<table border=\"1\" class=\"dataframe\">\n",
       "  <thead>\n",
       "    <tr style=\"text-align: right;\">\n",
       "      <th></th>\n",
       "      <th>city</th>\n",
       "      <th>area</th>\n",
       "      <th>rooms</th>\n",
       "      <th>bathroom</th>\n",
       "      <th>parking spaces</th>\n",
       "      <th>floor</th>\n",
       "      <th>animal</th>\n",
       "      <th>furniture</th>\n",
       "      <th>hoa (R$)</th>\n",
       "      <th>rent amount (R$)</th>\n",
       "      <th>property tax (R$)</th>\n",
       "      <th>fire insurance (R$)</th>\n",
       "      <th>total (R$)</th>\n",
       "    </tr>\n",
       "  </thead>\n",
       "  <tbody>\n",
       "    <tr>\n",
       "      <th>0</th>\n",
       "      <td>São Paulo</td>\n",
       "      <td>70</td>\n",
       "      <td>2</td>\n",
       "      <td>1</td>\n",
       "      <td>1</td>\n",
       "      <td>7</td>\n",
       "      <td>acept</td>\n",
       "      <td>furnished</td>\n",
       "      <td>2065</td>\n",
       "      <td>3300</td>\n",
       "      <td>211</td>\n",
       "      <td>42</td>\n",
       "      <td>5618</td>\n",
       "    </tr>\n",
       "    <tr>\n",
       "      <th>1</th>\n",
       "      <td>São Paulo</td>\n",
       "      <td>320</td>\n",
       "      <td>4</td>\n",
       "      <td>4</td>\n",
       "      <td>0</td>\n",
       "      <td>20</td>\n",
       "      <td>acept</td>\n",
       "      <td>not furnished</td>\n",
       "      <td>1200</td>\n",
       "      <td>4960</td>\n",
       "      <td>1750</td>\n",
       "      <td>63</td>\n",
       "      <td>7973</td>\n",
       "    </tr>\n",
       "    <tr>\n",
       "      <th>2</th>\n",
       "      <td>Porto Alegre</td>\n",
       "      <td>80</td>\n",
       "      <td>1</td>\n",
       "      <td>1</td>\n",
       "      <td>1</td>\n",
       "      <td>6</td>\n",
       "      <td>acept</td>\n",
       "      <td>not furnished</td>\n",
       "      <td>1000</td>\n",
       "      <td>2800</td>\n",
       "      <td>0</td>\n",
       "      <td>41</td>\n",
       "      <td>3841</td>\n",
       "    </tr>\n",
       "    <tr>\n",
       "      <th>3</th>\n",
       "      <td>Porto Alegre</td>\n",
       "      <td>51</td>\n",
       "      <td>2</td>\n",
       "      <td>1</td>\n",
       "      <td>0</td>\n",
       "      <td>2</td>\n",
       "      <td>acept</td>\n",
       "      <td>not furnished</td>\n",
       "      <td>270</td>\n",
       "      <td>1112</td>\n",
       "      <td>22</td>\n",
       "      <td>17</td>\n",
       "      <td>1421</td>\n",
       "    </tr>\n",
       "    <tr>\n",
       "      <th>4</th>\n",
       "      <td>São Paulo</td>\n",
       "      <td>25</td>\n",
       "      <td>1</td>\n",
       "      <td>1</td>\n",
       "      <td>0</td>\n",
       "      <td>1</td>\n",
       "      <td>not acept</td>\n",
       "      <td>not furnished</td>\n",
       "      <td>0</td>\n",
       "      <td>800</td>\n",
       "      <td>25</td>\n",
       "      <td>11</td>\n",
       "      <td>836</td>\n",
       "    </tr>\n",
       "  </tbody>\n",
       "</table>\n",
       "</div>"
      ],
      "text/plain": [
       "           city  area  rooms  bathroom  parking spaces floor     animal  \\\n",
       "0     São Paulo    70      2         1               1     7      acept   \n",
       "1     São Paulo   320      4         4               0    20      acept   \n",
       "2  Porto Alegre    80      1         1               1     6      acept   \n",
       "3  Porto Alegre    51      2         1               0     2      acept   \n",
       "4     São Paulo    25      1         1               0     1  not acept   \n",
       "\n",
       "       furniture  hoa (R$)  rent amount (R$)  property tax (R$)  \\\n",
       "0      furnished      2065              3300                211   \n",
       "1  not furnished      1200              4960               1750   \n",
       "2  not furnished      1000              2800                  0   \n",
       "3  not furnished       270              1112                 22   \n",
       "4  not furnished         0               800                 25   \n",
       "\n",
       "   fire insurance (R$)  total (R$)  \n",
       "0                   42        5618  \n",
       "1                   63        7973  \n",
       "2                   41        3841  \n",
       "3                   17        1421  \n",
       "4                   11         836  "
      ]
     },
     "execution_count": 3,
     "metadata": {},
     "output_type": "execute_result"
    }
   ],
   "source": [
    "dataset.head()"
   ]
  },
  {
   "cell_type": "markdown",
   "metadata": {},
   "source": [
    "### Limpeza dos dados"
   ]
  },
  {
   "cell_type": "markdown",
   "metadata": {},
   "source": [
    "Renomiando as colunas para retirar o \"(R$)\""
   ]
  },
  {
   "cell_type": "code",
   "execution_count": 4,
   "metadata": {},
   "outputs": [],
   "source": [
    "dataset.rename({'hoa (R$)':'hoa', 'rent amount (R$)': 'rent amount', \n",
    "                'property tax (R$)': 'property tax', \n",
    "                'fire insurance (R$)':'fire insurance', 'total (R$)': 'total'}, \n",
    "                axis=1, inplace=True)"
   ]
  },
  {
   "cell_type": "code",
   "execution_count": 5,
   "metadata": {},
   "outputs": [
    {
     "data": {
      "text/html": [
       "<div>\n",
       "<style scoped>\n",
       "    .dataframe tbody tr th:only-of-type {\n",
       "        vertical-align: middle;\n",
       "    }\n",
       "\n",
       "    .dataframe tbody tr th {\n",
       "        vertical-align: top;\n",
       "    }\n",
       "\n",
       "    .dataframe thead th {\n",
       "        text-align: right;\n",
       "    }\n",
       "</style>\n",
       "<table border=\"1\" class=\"dataframe\">\n",
       "  <thead>\n",
       "    <tr style=\"text-align: right;\">\n",
       "      <th></th>\n",
       "      <th>city</th>\n",
       "      <th>area</th>\n",
       "      <th>rooms</th>\n",
       "      <th>bathroom</th>\n",
       "      <th>parking spaces</th>\n",
       "      <th>floor</th>\n",
       "      <th>animal</th>\n",
       "      <th>furniture</th>\n",
       "      <th>hoa</th>\n",
       "      <th>rent amount</th>\n",
       "      <th>property tax</th>\n",
       "      <th>fire insurance</th>\n",
       "      <th>total</th>\n",
       "    </tr>\n",
       "  </thead>\n",
       "  <tbody>\n",
       "    <tr>\n",
       "      <th>0</th>\n",
       "      <td>São Paulo</td>\n",
       "      <td>70</td>\n",
       "      <td>2</td>\n",
       "      <td>1</td>\n",
       "      <td>1</td>\n",
       "      <td>7</td>\n",
       "      <td>acept</td>\n",
       "      <td>furnished</td>\n",
       "      <td>2065</td>\n",
       "      <td>3300</td>\n",
       "      <td>211</td>\n",
       "      <td>42</td>\n",
       "      <td>5618</td>\n",
       "    </tr>\n",
       "    <tr>\n",
       "      <th>1</th>\n",
       "      <td>São Paulo</td>\n",
       "      <td>320</td>\n",
       "      <td>4</td>\n",
       "      <td>4</td>\n",
       "      <td>0</td>\n",
       "      <td>20</td>\n",
       "      <td>acept</td>\n",
       "      <td>not furnished</td>\n",
       "      <td>1200</td>\n",
       "      <td>4960</td>\n",
       "      <td>1750</td>\n",
       "      <td>63</td>\n",
       "      <td>7973</td>\n",
       "    </tr>\n",
       "    <tr>\n",
       "      <th>2</th>\n",
       "      <td>Porto Alegre</td>\n",
       "      <td>80</td>\n",
       "      <td>1</td>\n",
       "      <td>1</td>\n",
       "      <td>1</td>\n",
       "      <td>6</td>\n",
       "      <td>acept</td>\n",
       "      <td>not furnished</td>\n",
       "      <td>1000</td>\n",
       "      <td>2800</td>\n",
       "      <td>0</td>\n",
       "      <td>41</td>\n",
       "      <td>3841</td>\n",
       "    </tr>\n",
       "    <tr>\n",
       "      <th>3</th>\n",
       "      <td>Porto Alegre</td>\n",
       "      <td>51</td>\n",
       "      <td>2</td>\n",
       "      <td>1</td>\n",
       "      <td>0</td>\n",
       "      <td>2</td>\n",
       "      <td>acept</td>\n",
       "      <td>not furnished</td>\n",
       "      <td>270</td>\n",
       "      <td>1112</td>\n",
       "      <td>22</td>\n",
       "      <td>17</td>\n",
       "      <td>1421</td>\n",
       "    </tr>\n",
       "    <tr>\n",
       "      <th>4</th>\n",
       "      <td>São Paulo</td>\n",
       "      <td>25</td>\n",
       "      <td>1</td>\n",
       "      <td>1</td>\n",
       "      <td>0</td>\n",
       "      <td>1</td>\n",
       "      <td>not acept</td>\n",
       "      <td>not furnished</td>\n",
       "      <td>0</td>\n",
       "      <td>800</td>\n",
       "      <td>25</td>\n",
       "      <td>11</td>\n",
       "      <td>836</td>\n",
       "    </tr>\n",
       "  </tbody>\n",
       "</table>\n",
       "</div>"
      ],
      "text/plain": [
       "           city  area  rooms  bathroom  parking spaces floor     animal  \\\n",
       "0     São Paulo    70      2         1               1     7      acept   \n",
       "1     São Paulo   320      4         4               0    20      acept   \n",
       "2  Porto Alegre    80      1         1               1     6      acept   \n",
       "3  Porto Alegre    51      2         1               0     2      acept   \n",
       "4     São Paulo    25      1         1               0     1  not acept   \n",
       "\n",
       "       furniture   hoa  rent amount  property tax  fire insurance  total  \n",
       "0      furnished  2065         3300           211              42   5618  \n",
       "1  not furnished  1200         4960          1750              63   7973  \n",
       "2  not furnished  1000         2800             0              41   3841  \n",
       "3  not furnished   270         1112            22              17   1421  \n",
       "4  not furnished     0          800            25              11    836  "
      ]
     },
     "execution_count": 5,
     "metadata": {},
     "output_type": "execute_result"
    }
   ],
   "source": [
    "dataset.head()"
   ]
  },
  {
   "cell_type": "code",
   "execution_count": 6,
   "metadata": {},
   "outputs": [
    {
     "name": "stdout",
     "output_type": "stream",
     "text": [
      "As dimensões do dataframe:\n",
      "Entradas: 10692\n",
      "Atributos: 13\n"
     ]
    }
   ],
   "source": [
    "print(f'As dimensões do dataframe:\\nEntradas: {dataset.shape[0]}\\nAtributos: {dataset.shape[1]}')"
   ]
  },
  {
   "cell_type": "markdown",
   "metadata": {},
   "source": [
    "## Data exploration"
   ]
  },
  {
   "cell_type": "markdown",
   "metadata": {},
   "source": [
    "### Verificação de dados faltantes"
   ]
  },
  {
   "cell_type": "code",
   "execution_count": 7,
   "metadata": {},
   "outputs": [
    {
     "name": "stdout",
     "output_type": "stream",
     "text": [
      "<class 'pandas.core.frame.DataFrame'>\n",
      "RangeIndex: 10692 entries, 0 to 10691\n",
      "Data columns (total 13 columns):\n",
      " #   Column          Non-Null Count  Dtype \n",
      "---  ------          --------------  ----- \n",
      " 0   city            10692 non-null  object\n",
      " 1   area            10692 non-null  int64 \n",
      " 2   rooms           10692 non-null  int64 \n",
      " 3   bathroom        10692 non-null  int64 \n",
      " 4   parking spaces  10692 non-null  int64 \n",
      " 5   floor           10692 non-null  object\n",
      " 6   animal          10692 non-null  object\n",
      " 7   furniture       10692 non-null  object\n",
      " 8   hoa             10692 non-null  int64 \n",
      " 9   rent amount     10692 non-null  int64 \n",
      " 10  property tax    10692 non-null  int64 \n",
      " 11  fire insurance  10692 non-null  int64 \n",
      " 12  total           10692 non-null  int64 \n",
      "dtypes: int64(9), object(4)\n",
      "memory usage: 1.1+ MB\n"
     ]
    }
   ],
   "source": [
    "# Visualização do resumo de informações sobre o DataFrame\n",
    "dataset.info()"
   ]
  },
  {
   "cell_type": "markdown",
   "metadata": {},
   "source": [
    "Analizando as informações do DataFrame é possivel visualizar que não há dados faltantes (NaN) em nenhuma das colunas, já que o número de entradas é igual ao número de dados que não são NaN em cada coluna. \n",
    "\n",
    "Além disso é possivel visualizar os tipos dos dados presentes em cada coluna. As colunas city, animal e furniture são do tipo object, no qual seus dados são representados por 'Strings'. \n",
    "\n",
    "Além disso, a coluna floor também possui o tipo de dado como object. Logo vamos realizar uma investigação ao seu respeito.\n"
   ]
  },
  {
   "cell_type": "markdown",
   "metadata": {},
   "source": [
    "### Substituindo os valores das colunas animal and furniture por valores binários"
   ]
  },
  {
   "cell_type": "markdown",
   "metadata": {},
   "source": [
    "Alterando os valores das colunas para valores binários. Na coluna animal, 0 = acept e 1 = not acept. Já na coluna furniture, 0 = furnished e 1 = not furnished."
   ]
  },
  {
   "cell_type": "code",
   "execution_count": 8,
   "metadata": {},
   "outputs": [
    {
     "data": {
      "text/html": [
       "<div>\n",
       "<style scoped>\n",
       "    .dataframe tbody tr th:only-of-type {\n",
       "        vertical-align: middle;\n",
       "    }\n",
       "\n",
       "    .dataframe tbody tr th {\n",
       "        vertical-align: top;\n",
       "    }\n",
       "\n",
       "    .dataframe thead th {\n",
       "        text-align: right;\n",
       "    }\n",
       "</style>\n",
       "<table border=\"1\" class=\"dataframe\">\n",
       "  <thead>\n",
       "    <tr style=\"text-align: right;\">\n",
       "      <th></th>\n",
       "      <th>city</th>\n",
       "      <th>area</th>\n",
       "      <th>rooms</th>\n",
       "      <th>bathroom</th>\n",
       "      <th>parking spaces</th>\n",
       "      <th>floor</th>\n",
       "      <th>animal</th>\n",
       "      <th>furniture</th>\n",
       "      <th>hoa</th>\n",
       "      <th>rent amount</th>\n",
       "      <th>property tax</th>\n",
       "      <th>fire insurance</th>\n",
       "      <th>total</th>\n",
       "    </tr>\n",
       "  </thead>\n",
       "  <tbody>\n",
       "    <tr>\n",
       "      <th>0</th>\n",
       "      <td>São Paulo</td>\n",
       "      <td>70</td>\n",
       "      <td>2</td>\n",
       "      <td>1</td>\n",
       "      <td>1</td>\n",
       "      <td>7</td>\n",
       "      <td>0</td>\n",
       "      <td>0</td>\n",
       "      <td>2065</td>\n",
       "      <td>3300</td>\n",
       "      <td>211</td>\n",
       "      <td>42</td>\n",
       "      <td>5618</td>\n",
       "    </tr>\n",
       "    <tr>\n",
       "      <th>1</th>\n",
       "      <td>São Paulo</td>\n",
       "      <td>320</td>\n",
       "      <td>4</td>\n",
       "      <td>4</td>\n",
       "      <td>0</td>\n",
       "      <td>20</td>\n",
       "      <td>0</td>\n",
       "      <td>1</td>\n",
       "      <td>1200</td>\n",
       "      <td>4960</td>\n",
       "      <td>1750</td>\n",
       "      <td>63</td>\n",
       "      <td>7973</td>\n",
       "    </tr>\n",
       "    <tr>\n",
       "      <th>2</th>\n",
       "      <td>Porto Alegre</td>\n",
       "      <td>80</td>\n",
       "      <td>1</td>\n",
       "      <td>1</td>\n",
       "      <td>1</td>\n",
       "      <td>6</td>\n",
       "      <td>0</td>\n",
       "      <td>1</td>\n",
       "      <td>1000</td>\n",
       "      <td>2800</td>\n",
       "      <td>0</td>\n",
       "      <td>41</td>\n",
       "      <td>3841</td>\n",
       "    </tr>\n",
       "    <tr>\n",
       "      <th>3</th>\n",
       "      <td>Porto Alegre</td>\n",
       "      <td>51</td>\n",
       "      <td>2</td>\n",
       "      <td>1</td>\n",
       "      <td>0</td>\n",
       "      <td>2</td>\n",
       "      <td>0</td>\n",
       "      <td>1</td>\n",
       "      <td>270</td>\n",
       "      <td>1112</td>\n",
       "      <td>22</td>\n",
       "      <td>17</td>\n",
       "      <td>1421</td>\n",
       "    </tr>\n",
       "    <tr>\n",
       "      <th>4</th>\n",
       "      <td>São Paulo</td>\n",
       "      <td>25</td>\n",
       "      <td>1</td>\n",
       "      <td>1</td>\n",
       "      <td>0</td>\n",
       "      <td>1</td>\n",
       "      <td>1</td>\n",
       "      <td>1</td>\n",
       "      <td>0</td>\n",
       "      <td>800</td>\n",
       "      <td>25</td>\n",
       "      <td>11</td>\n",
       "      <td>836</td>\n",
       "    </tr>\n",
       "    <tr>\n",
       "      <th>5</th>\n",
       "      <td>São Paulo</td>\n",
       "      <td>376</td>\n",
       "      <td>3</td>\n",
       "      <td>3</td>\n",
       "      <td>7</td>\n",
       "      <td>-</td>\n",
       "      <td>0</td>\n",
       "      <td>1</td>\n",
       "      <td>0</td>\n",
       "      <td>8000</td>\n",
       "      <td>834</td>\n",
       "      <td>121</td>\n",
       "      <td>8955</td>\n",
       "    </tr>\n",
       "    <tr>\n",
       "      <th>6</th>\n",
       "      <td>Rio de Janeiro</td>\n",
       "      <td>72</td>\n",
       "      <td>2</td>\n",
       "      <td>1</td>\n",
       "      <td>0</td>\n",
       "      <td>7</td>\n",
       "      <td>0</td>\n",
       "      <td>1</td>\n",
       "      <td>740</td>\n",
       "      <td>1900</td>\n",
       "      <td>85</td>\n",
       "      <td>25</td>\n",
       "      <td>2750</td>\n",
       "    </tr>\n",
       "    <tr>\n",
       "      <th>7</th>\n",
       "      <td>São Paulo</td>\n",
       "      <td>213</td>\n",
       "      <td>4</td>\n",
       "      <td>4</td>\n",
       "      <td>4</td>\n",
       "      <td>4</td>\n",
       "      <td>0</td>\n",
       "      <td>1</td>\n",
       "      <td>2254</td>\n",
       "      <td>3223</td>\n",
       "      <td>1735</td>\n",
       "      <td>41</td>\n",
       "      <td>7253</td>\n",
       "    </tr>\n",
       "    <tr>\n",
       "      <th>8</th>\n",
       "      <td>São Paulo</td>\n",
       "      <td>152</td>\n",
       "      <td>2</td>\n",
       "      <td>2</td>\n",
       "      <td>1</td>\n",
       "      <td>3</td>\n",
       "      <td>0</td>\n",
       "      <td>0</td>\n",
       "      <td>1000</td>\n",
       "      <td>15000</td>\n",
       "      <td>250</td>\n",
       "      <td>191</td>\n",
       "      <td>16440</td>\n",
       "    </tr>\n",
       "    <tr>\n",
       "      <th>9</th>\n",
       "      <td>Rio de Janeiro</td>\n",
       "      <td>35</td>\n",
       "      <td>1</td>\n",
       "      <td>1</td>\n",
       "      <td>0</td>\n",
       "      <td>2</td>\n",
       "      <td>0</td>\n",
       "      <td>0</td>\n",
       "      <td>590</td>\n",
       "      <td>2300</td>\n",
       "      <td>35</td>\n",
       "      <td>30</td>\n",
       "      <td>2955</td>\n",
       "    </tr>\n",
       "  </tbody>\n",
       "</table>\n",
       "</div>"
      ],
      "text/plain": [
       "             city  area  rooms  bathroom  parking spaces floor  animal  \\\n",
       "0       São Paulo    70      2         1               1     7       0   \n",
       "1       São Paulo   320      4         4               0    20       0   \n",
       "2    Porto Alegre    80      1         1               1     6       0   \n",
       "3    Porto Alegre    51      2         1               0     2       0   \n",
       "4       São Paulo    25      1         1               0     1       1   \n",
       "5       São Paulo   376      3         3               7     -       0   \n",
       "6  Rio de Janeiro    72      2         1               0     7       0   \n",
       "7       São Paulo   213      4         4               4     4       0   \n",
       "8       São Paulo   152      2         2               1     3       0   \n",
       "9  Rio de Janeiro    35      1         1               0     2       0   \n",
       "\n",
       "   furniture   hoa  rent amount  property tax  fire insurance  total  \n",
       "0          0  2065         3300           211              42   5618  \n",
       "1          1  1200         4960          1750              63   7973  \n",
       "2          1  1000         2800             0              41   3841  \n",
       "3          1   270         1112            22              17   1421  \n",
       "4          1     0          800            25              11    836  \n",
       "5          1     0         8000           834             121   8955  \n",
       "6          1   740         1900            85              25   2750  \n",
       "7          1  2254         3223          1735              41   7253  \n",
       "8          0  1000        15000           250             191  16440  \n",
       "9          0   590         2300            35              30   2955  "
      ]
     },
     "execution_count": 8,
     "metadata": {},
     "output_type": "execute_result"
    }
   ],
   "source": [
    "dataset.replace({'acept': 0, 'not acept': 1}, inplace=True)     # alterando a coluna animal\n",
    "dataset.replace({'furnished': 0, 'not furnished': 1}, inplace=True)     # alterando a coluna furniture\n",
    "dataset.head(10)\n"
   ]
  },
  {
   "cell_type": "markdown",
   "metadata": {},
   "source": [
    "### Investigando os dados da coluna 'floor'"
   ]
  },
  {
   "cell_type": "markdown",
   "metadata": {},
   "source": [
    "Verificando os valores unicos da coluna 'floor', obtemos:"
   ]
  },
  {
   "cell_type": "code",
   "execution_count": 9,
   "metadata": {},
   "outputs": [
    {
     "data": {
      "text/plain": [
       "array(['7', '20', '6', '2', '1', '-', '4', '3', '10', '11', '24', '9',\n",
       "       '8', '17', '18', '5', '13', '15', '16', '14', '26', '12', '21',\n",
       "       '19', '22', '27', '23', '35', '25', '46', '28', '29', '301', '51',\n",
       "       '32'], dtype=object)"
      ]
     },
     "execution_count": 9,
     "metadata": {},
     "output_type": "execute_result"
    }
   ],
   "source": [
    "dataset['floor'].unique()"
   ]
  },
  {
   "cell_type": "markdown",
   "metadata": {},
   "source": [
    "Fazendo uma pesquisa mais profunda sobre os dados, foi descoberto que o autor da base de dados afirmou que a ocorrencia '-' na coluna de andares (floor) são imoveis que não possuiem andar especifico, como casas. Logo, uma possível solução é substituir esses dados pelo valor 0, ou seja, o andar terrio. Para caso seja necessário análises desse tipo de imovel posterioremente, vamos separar esse conjunto de dados e salvalo em um novo arquivo csv antes de realiazar a alteração."
   ]
  },
  {
   "cell_type": "code",
   "execution_count": 10,
   "metadata": {},
   "outputs": [],
   "source": [
    "dados_casas = dataset.query('floor == \"-\"')\n",
    "dados_casas.to_csv('imoveis_do_tipo_casas.csv', sep=',', index=False)"
   ]
  },
  {
   "cell_type": "markdown",
   "metadata": {},
   "source": [
    "Número de ocorrencias em que o andar (floor) é representado por '-'"
   ]
  },
  {
   "cell_type": "code",
   "execution_count": 11,
   "metadata": {},
   "outputs": [
    {
     "data": {
      "text/plain": [
       "2461"
      ]
     },
     "execution_count": 11,
     "metadata": {},
     "output_type": "execute_result"
    }
   ],
   "source": [
    "dataset.query('floor == \"-\"')['floor'].count()"
   ]
  },
  {
   "cell_type": "markdown",
   "metadata": {},
   "source": [
    "Trasformaremos as entradas representadas por '-' na coluna andar (floor) por 0"
   ]
  },
  {
   "cell_type": "code",
   "execution_count": 12,
   "metadata": {},
   "outputs": [],
   "source": [
    "dataset['floor'] = dataset['floor'].replace('-', 0)\n"
   ]
  },
  {
   "cell_type": "markdown",
   "metadata": {},
   "source": [
    "Através do metodo astype vamos transformar os dados da coluna em dados do tipo inteiro"
   ]
  },
  {
   "cell_type": "code",
   "execution_count": 13,
   "metadata": {},
   "outputs": [],
   "source": [
    "dataset['floor'] = dataset['floor'].astype(np.int64) # Foi utilizado o tipo np.int64, pois quando se utilizou apenas o tipo 'int' o dtype da coluna assumia um valor de int32 "
   ]
  },
  {
   "cell_type": "markdown",
   "metadata": {},
   "source": [
    "Conferindo o novo tipo da coluna floor"
   ]
  },
  {
   "cell_type": "code",
   "execution_count": 14,
   "metadata": {},
   "outputs": [
    {
     "data": {
      "text/plain": [
       "dtype('int64')"
      ]
     },
     "execution_count": 14,
     "metadata": {},
     "output_type": "execute_result"
    }
   ],
   "source": [
    "dataset['floor'].dtypes"
   ]
  },
  {
   "cell_type": "markdown",
   "metadata": {},
   "source": [
    "### Cidades"
   ]
  },
  {
   "cell_type": "markdown",
   "metadata": {},
   "source": [
    "O número de imoveis disponivel para alugar em cada cidade"
   ]
  },
  {
   "cell_type": "code",
   "execution_count": 15,
   "metadata": {},
   "outputs": [
    {
     "data": {
      "text/html": [
       "<div>\n",
       "<style scoped>\n",
       "    .dataframe tbody tr th:only-of-type {\n",
       "        vertical-align: middle;\n",
       "    }\n",
       "\n",
       "    .dataframe tbody tr th {\n",
       "        vertical-align: top;\n",
       "    }\n",
       "\n",
       "    .dataframe thead th {\n",
       "        text-align: right;\n",
       "    }\n",
       "</style>\n",
       "<table border=\"1\" class=\"dataframe\">\n",
       "  <thead>\n",
       "    <tr style=\"text-align: right;\">\n",
       "      <th></th>\n",
       "      <th>Imoveis</th>\n",
       "    </tr>\n",
       "    <tr>\n",
       "      <th>city</th>\n",
       "      <th></th>\n",
       "    </tr>\n",
       "  </thead>\n",
       "  <tbody>\n",
       "    <tr>\n",
       "      <th>Belo Horizonte</th>\n",
       "      <td>1258</td>\n",
       "    </tr>\n",
       "    <tr>\n",
       "      <th>Campinas</th>\n",
       "      <td>853</td>\n",
       "    </tr>\n",
       "    <tr>\n",
       "      <th>Porto Alegre</th>\n",
       "      <td>1193</td>\n",
       "    </tr>\n",
       "    <tr>\n",
       "      <th>Rio de Janeiro</th>\n",
       "      <td>1501</td>\n",
       "    </tr>\n",
       "    <tr>\n",
       "      <th>São Paulo</th>\n",
       "      <td>5887</td>\n",
       "    </tr>\n",
       "  </tbody>\n",
       "</table>\n",
       "</div>"
      ],
      "text/plain": [
       "                Imoveis\n",
       "city                   \n",
       "Belo Horizonte     1258\n",
       "Campinas            853\n",
       "Porto Alegre       1193\n",
       "Rio de Janeiro     1501\n",
       "São Paulo          5887"
      ]
     },
     "execution_count": 15,
     "metadata": {},
     "output_type": "execute_result"
    }
   ],
   "source": [
    "numero_imovel_por_cidade = dataset.groupby('city')['city'].count().to_frame()\n",
    "numero_imovel_por_cidade.rename({'city':'Imoveis'}, axis=1, inplace=True)\n",
    "numero_imovel_por_cidade\n"
   ]
  },
  {
   "cell_type": "markdown",
   "metadata": {},
   "source": [
    "Criando uma tabela das cidades e atribuido um Id para cada uma delas"
   ]
  },
  {
   "cell_type": "code",
   "execution_count": 16,
   "metadata": {},
   "outputs": [
    {
     "data": {
      "text/html": [
       "<div>\n",
       "<style scoped>\n",
       "    .dataframe tbody tr th:only-of-type {\n",
       "        vertical-align: middle;\n",
       "    }\n",
       "\n",
       "    .dataframe tbody tr th {\n",
       "        vertical-align: top;\n",
       "    }\n",
       "\n",
       "    .dataframe thead th {\n",
       "        text-align: right;\n",
       "    }\n",
       "</style>\n",
       "<table border=\"1\" class=\"dataframe\">\n",
       "  <thead>\n",
       "    <tr style=\"text-align: right;\">\n",
       "      <th>Id</th>\n",
       "      <th>city</th>\n",
       "    </tr>\n",
       "  </thead>\n",
       "  <tbody>\n",
       "    <tr>\n",
       "      <th>0</th>\n",
       "      <td>São Paulo</td>\n",
       "    </tr>\n",
       "    <tr>\n",
       "      <th>1</th>\n",
       "      <td>Porto Alegre</td>\n",
       "    </tr>\n",
       "    <tr>\n",
       "      <th>2</th>\n",
       "      <td>Rio de Janeiro</td>\n",
       "    </tr>\n",
       "    <tr>\n",
       "      <th>3</th>\n",
       "      <td>Campinas</td>\n",
       "    </tr>\n",
       "    <tr>\n",
       "      <th>4</th>\n",
       "      <td>Belo Horizonte</td>\n",
       "    </tr>\n",
       "  </tbody>\n",
       "</table>\n",
       "</div>"
      ],
      "text/plain": [
       "Id            city\n",
       "0        São Paulo\n",
       "1     Porto Alegre\n",
       "2   Rio de Janeiro\n",
       "3         Campinas\n",
       "4   Belo Horizonte"
      ]
     },
     "execution_count": 16,
     "metadata": {},
     "output_type": "execute_result"
    }
   ],
   "source": [
    "# Cidades que possuiem um inmovel para alugar\n",
    "cidades = pd.DataFrame(dataset.city.drop_duplicates())\n",
    "cidades.index = range(cidades.shape[0])\n",
    "cidades.columns.name = 'Id'\n",
    "cidades"
   ]
  },
  {
   "cell_type": "markdown",
   "metadata": {},
   "source": [
    "### Análise Prévia das Características Descritivas "
   ]
  },
  {
   "cell_type": "code",
   "execution_count": 17,
   "metadata": {},
   "outputs": [
    {
     "data": {
      "text/html": [
       "<div>\n",
       "<style scoped>\n",
       "    .dataframe tbody tr th:only-of-type {\n",
       "        vertical-align: middle;\n",
       "    }\n",
       "\n",
       "    .dataframe tbody tr th {\n",
       "        vertical-align: top;\n",
       "    }\n",
       "\n",
       "    .dataframe thead th {\n",
       "        text-align: right;\n",
       "    }\n",
       "</style>\n",
       "<table border=\"1\" class=\"dataframe\">\n",
       "  <thead>\n",
       "    <tr style=\"text-align: right;\">\n",
       "      <th></th>\n",
       "      <th>area</th>\n",
       "      <th>rooms</th>\n",
       "      <th>parking spaces</th>\n",
       "      <th>floor</th>\n",
       "      <th>hoa</th>\n",
       "      <th>rent amount</th>\n",
       "      <th>property tax</th>\n",
       "      <th>fire insurance</th>\n",
       "      <th>total</th>\n",
       "    </tr>\n",
       "  </thead>\n",
       "  <tbody>\n",
       "    <tr>\n",
       "      <th>count</th>\n",
       "      <td>10692.00</td>\n",
       "      <td>10692.00</td>\n",
       "      <td>10692.00</td>\n",
       "      <td>10692.00</td>\n",
       "      <td>10692.00</td>\n",
       "      <td>10692.00</td>\n",
       "      <td>10692.00</td>\n",
       "      <td>10692.00</td>\n",
       "      <td>10692.00</td>\n",
       "    </tr>\n",
       "    <tr>\n",
       "      <th>mean</th>\n",
       "      <td>149.22</td>\n",
       "      <td>2.51</td>\n",
       "      <td>1.61</td>\n",
       "      <td>5.07</td>\n",
       "      <td>1174.02</td>\n",
       "      <td>3896.25</td>\n",
       "      <td>366.70</td>\n",
       "      <td>53.30</td>\n",
       "      <td>5490.49</td>\n",
       "    </tr>\n",
       "    <tr>\n",
       "      <th>std</th>\n",
       "      <td>537.02</td>\n",
       "      <td>1.17</td>\n",
       "      <td>1.59</td>\n",
       "      <td>6.07</td>\n",
       "      <td>15592.31</td>\n",
       "      <td>3408.55</td>\n",
       "      <td>3107.83</td>\n",
       "      <td>47.77</td>\n",
       "      <td>16484.73</td>\n",
       "    </tr>\n",
       "    <tr>\n",
       "      <th>min</th>\n",
       "      <td>11.00</td>\n",
       "      <td>1.00</td>\n",
       "      <td>0.00</td>\n",
       "      <td>0.00</td>\n",
       "      <td>0.00</td>\n",
       "      <td>450.00</td>\n",
       "      <td>0.00</td>\n",
       "      <td>3.00</td>\n",
       "      <td>499.00</td>\n",
       "    </tr>\n",
       "    <tr>\n",
       "      <th>25%</th>\n",
       "      <td>56.00</td>\n",
       "      <td>2.00</td>\n",
       "      <td>0.00</td>\n",
       "      <td>1.00</td>\n",
       "      <td>170.00</td>\n",
       "      <td>1530.00</td>\n",
       "      <td>38.00</td>\n",
       "      <td>21.00</td>\n",
       "      <td>2061.75</td>\n",
       "    </tr>\n",
       "    <tr>\n",
       "      <th>50%</th>\n",
       "      <td>90.00</td>\n",
       "      <td>2.00</td>\n",
       "      <td>1.00</td>\n",
       "      <td>3.00</td>\n",
       "      <td>560.00</td>\n",
       "      <td>2661.00</td>\n",
       "      <td>125.00</td>\n",
       "      <td>36.00</td>\n",
       "      <td>3581.50</td>\n",
       "    </tr>\n",
       "    <tr>\n",
       "      <th>75%</th>\n",
       "      <td>182.00</td>\n",
       "      <td>3.00</td>\n",
       "      <td>2.00</td>\n",
       "      <td>8.00</td>\n",
       "      <td>1237.50</td>\n",
       "      <td>5000.00</td>\n",
       "      <td>375.00</td>\n",
       "      <td>68.00</td>\n",
       "      <td>6768.00</td>\n",
       "    </tr>\n",
       "    <tr>\n",
       "      <th>max</th>\n",
       "      <td>46335.00</td>\n",
       "      <td>13.00</td>\n",
       "      <td>12.00</td>\n",
       "      <td>301.00</td>\n",
       "      <td>1117000.00</td>\n",
       "      <td>45000.00</td>\n",
       "      <td>313700.00</td>\n",
       "      <td>677.00</td>\n",
       "      <td>1120000.00</td>\n",
       "    </tr>\n",
       "  </tbody>\n",
       "</table>\n",
       "</div>"
      ],
      "text/plain": [
       "           area     rooms  parking spaces     floor         hoa  rent amount  \\\n",
       "count  10692.00  10692.00        10692.00  10692.00    10692.00     10692.00   \n",
       "mean     149.22      2.51            1.61      5.07     1174.02      3896.25   \n",
       "std      537.02      1.17            1.59      6.07    15592.31      3408.55   \n",
       "min       11.00      1.00            0.00      0.00        0.00       450.00   \n",
       "25%       56.00      2.00            0.00      1.00      170.00      1530.00   \n",
       "50%       90.00      2.00            1.00      3.00      560.00      2661.00   \n",
       "75%      182.00      3.00            2.00      8.00     1237.50      5000.00   \n",
       "max    46335.00     13.00           12.00    301.00  1117000.00     45000.00   \n",
       "\n",
       "       property tax  fire insurance       total  \n",
       "count      10692.00        10692.00    10692.00  \n",
       "mean         366.70           53.30     5490.49  \n",
       "std         3107.83           47.77    16484.73  \n",
       "min            0.00            3.00      499.00  \n",
       "25%           38.00           21.00     2061.75  \n",
       "50%          125.00           36.00     3581.50  \n",
       "75%          375.00           68.00     6768.00  \n",
       "max       313700.00          677.00  1120000.00  "
      ]
     },
     "execution_count": 17,
     "metadata": {},
     "output_type": "execute_result"
    }
   ],
   "source": [
    "# Visualização das características descritivas das variáveis\n",
    "dataset[['area', 'rooms','parking spaces', 'floor','hoa','rent amount','property tax','fire insurance','total']].describe().round(2)"
   ]
  },
  {
   "cell_type": "markdown",
   "metadata": {},
   "source": [
    "Através de uma visualiização previa das características descritivas é possível visualizar algumas informações estranhas e que devem ser analizadas cuidadosamente, como por exemplo, os máximos valores de area (46335.00 m²), de hoa (R$ 1117000.00) e de floor (301)."
   ]
  },
  {
   "cell_type": "markdown",
   "metadata": {},
   "source": [
    "### Identificando Outliers"
   ]
  },
  {
   "cell_type": "markdown",
   "metadata": {},
   "source": [
    "#### Analizando a 'area'"
   ]
  },
  {
   "cell_type": "code",
   "execution_count": 51,
   "metadata": {},
   "outputs": [
    {
     "data": {
      "text/plain": [
       "Text(0.5, 0, 'Área (m²)')"
      ]
     },
     "execution_count": 51,
     "metadata": {},
     "output_type": "execute_result"
    },
    {
     "data": {
      "image/png": "[encoded data removed]",
      "text/plain": [
       "<Figure size 720x720 with 2 Axes>"
      ]
     },
     "metadata": {
      "needs_background": "light"
     },
     "output_type": "display_data"
    }
   ],
   "source": [
    "plt.figure(figsize=(10,10))\n",
    "plt.subplot(2,1,1)\n",
    "plt.title('Distribuição de Frequências - Area')\n",
    "sns.distplot(dataset.area, axlabel=False)\n",
    "\n",
    "plt.subplot(2,1,2)\n",
    "plt.title('Boxplot - ÁREA')\n",
    "sns.boxplot( x = 'area', data = dataset, orient = 'h')\n",
    "plt.xlabel('Área (m²)', fontsize=10)\n"
   ]
  },
  {
   "cell_type": "markdown",
   "metadata": {},
   "source": [
    "#### Analizando a 'floor'"
   ]
  },
  {
   "cell_type": "code",
   "execution_count": 55,
   "metadata": {},
   "outputs": [
    {
     "data": {
      "text/plain": [
       "Text(0.5, 0, 'Número de andares')"
      ]
     },
     "execution_count": 55,
     "metadata": {},
     "output_type": "execute_result"
    },
    {
     "data": {
      "image/png": "[encoded data removed]",
      "text/plain": [
       "<Figure size 720x720 with 2 Axes>"
      ]
     },
     "metadata": {
      "needs_background": "light"
     },
     "output_type": "display_data"
    }
   ],
   "source": [
    "plt.figure(figsize=(10,10))\n",
    "plt.subplot(2,1,1)\n",
    "plt.title('Distribuição de Frequências - Andares')\n",
    "sns.distplot(dataset.floor, axlabel=False)\n",
    "\n",
    "plt.subplot(2,1,2)\n",
    "plt.title('Boxplot - FLOOR')\n",
    "sns.boxplot( x = 'floor', data = dataset, orient = 'h')\n",
    "plt.xlabel('Número de andares', fontsize=10)"
   ]
  },
  {
   "cell_type": "markdown",
   "metadata": {},
   "source": [
    "#### Analizando a 'hoa'"
   ]
  },
  {
   "cell_type": "code",
   "execution_count": 56,
   "metadata": {},
   "outputs": [
    {
     "data": {
      "text/plain": [
       "Text(0.5, 0, 'Valor do condominio (R$)')"
      ]
     },
     "execution_count": 56,
     "metadata": {},
     "output_type": "execute_result"
    },
    {
     "data": {
      "image/png": "[encoded data removed]",
      "text/plain": [
       "<Figure size 720x720 with 2 Axes>"
      ]
     },
     "metadata": {
      "needs_background": "light"
     },
     "output_type": "display_data"
    }
   ],
   "source": [
    "plt.figure(figsize=(10,10))\n",
    "plt.subplot(2,1,1)\n",
    "plt.title('Distribuição de Frequências - Valor do condominio (hoa)')\n",
    "sns.distplot(dataset.hoa, axlabel=False)\n",
    "\n",
    "plt.subplot(2,1,2)\n",
    "plt.title('Boxplot - HOA')\n",
    "sns.boxplot( x = 'hoa', data = dataset, orient = 'h')\n",
    "plt.xlabel('Valor do condominio (R$)', fontsize=10)"
   ]
  },
  {
   "cell_type": "markdown",
   "metadata": {},
   "source": [
    "Há mais imóveis com valores mais baixos, aproximadamente com o mesmo valor, seguindo um mesmo padrão do que imóveis de luxo, que compõem a minoria e custam muito mais caro. O andar disponivel dos imoveis segue o mesmo padrão dos valores, onde a maioria dos prédios possuiem poucos andares, e uma minoria são compostos de muitos andares. E é basicamente isso que o gráfico de distribuição de frequências e boxplots nos mostra. \n",
    "\n",
    "No momento, nos gráficos de distribuição de frequências, nitidamente, temos uma assimetria à direita nos três casos. Os boxplots também estão achatados, praticamente todo jogado para o lado esquerdo. Em função disso, é dado o nome de assimetria à direita, pois a linha que se estende da queda da curva fica à direita, criando uma assimetria no lado com menos valores.\n",
    "\n",
    "Dados dessa natureza podem gerar problemas para estimarmos regressão, porém possibilitam a transformação para que se aproximem de uma forma simétrica, que permite estimar um modelo de regressão. E, então, para pegar as previsões, retornamos essas transformações."
   ]
  },
  {
   "cell_type": "markdown",
   "metadata": {},
   "source": [
    "### Aplicando a transformação logarítmica aos dados das colunas \"area\", \"floor\" e \"hoa\""
   ]
  },
  {
   "cell_type": "markdown",
   "metadata": {},
   "source": [
    "Andes de aplicar a transformação logarítmica é possível enxergar que as colunas \"floor\" e \"hoa\" assumem valores igual a zero. Se aplicada a transformação estes valores vão assumir valores “-inf” e serão descartados, logo, uma solução para este problema é somar uma unidade a todos os valores destas colunas. Assim, não alteraremos a variação dessa variável. Só passaremos ao patamar superior. E, quando passarmos o log, os valores que aparecem como 0 na tabela, serão igual a 1, então ao aplicar a transformação assumirão um valor igual 0. Foi criado um DataFrame temporário (\"temp_df\") para criação de novas colunas e seleção dos itens que será realizada no DataFrame dos dados (\"dataset\")."
   ]
  },
  {
   "cell_type": "code",
   "execution_count": 24,
   "metadata": {},
   "outputs": [],
   "source": [
    "temp_df = dataset[:]\n",
    "temp_df['log_area'] = np.log(dataset['area'])\n",
    "temp_df['log_floor'] = np.log(dataset['floor'] + 1)\n",
    "temp_df['log_hoa'] = np.log(dataset['hoa'] + 1)\n"
   ]
  },
  {
   "cell_type": "code",
   "execution_count": 25,
   "metadata": {},
   "outputs": [
    {
     "data": {
      "text/html": [
       "<div>\n",
       "<style scoped>\n",
       "    .dataframe tbody tr th:only-of-type {\n",
       "        vertical-align: middle;\n",
       "    }\n",
       "\n",
       "    .dataframe tbody tr th {\n",
       "        vertical-align: top;\n",
       "    }\n",
       "\n",
       "    .dataframe thead th {\n",
       "        text-align: right;\n",
       "    }\n",
       "</style>\n",
       "<table border=\"1\" class=\"dataframe\">\n",
       "  <thead>\n",
       "    <tr style=\"text-align: right;\">\n",
       "      <th></th>\n",
       "      <th>city</th>\n",
       "      <th>area</th>\n",
       "      <th>rooms</th>\n",
       "      <th>bathroom</th>\n",
       "      <th>parking spaces</th>\n",
       "      <th>floor</th>\n",
       "      <th>animal</th>\n",
       "      <th>furniture</th>\n",
       "      <th>hoa</th>\n",
       "      <th>rent amount</th>\n",
       "      <th>property tax</th>\n",
       "      <th>fire insurance</th>\n",
       "      <th>total</th>\n",
       "      <th>log_area</th>\n",
       "      <th>log_floor</th>\n",
       "      <th>log_hoa</th>\n",
       "    </tr>\n",
       "  </thead>\n",
       "  <tbody>\n",
       "    <tr>\n",
       "      <th>0</th>\n",
       "      <td>São Paulo</td>\n",
       "      <td>70</td>\n",
       "      <td>2</td>\n",
       "      <td>1</td>\n",
       "      <td>1</td>\n",
       "      <td>7</td>\n",
       "      <td>0</td>\n",
       "      <td>0</td>\n",
       "      <td>2065</td>\n",
       "      <td>3300</td>\n",
       "      <td>211</td>\n",
       "      <td>42</td>\n",
       "      <td>5618</td>\n",
       "      <td>4.248495</td>\n",
       "      <td>2.079442</td>\n",
       "      <td>7.633370</td>\n",
       "    </tr>\n",
       "    <tr>\n",
       "      <th>1</th>\n",
       "      <td>São Paulo</td>\n",
       "      <td>320</td>\n",
       "      <td>4</td>\n",
       "      <td>4</td>\n",
       "      <td>0</td>\n",
       "      <td>20</td>\n",
       "      <td>0</td>\n",
       "      <td>1</td>\n",
       "      <td>1200</td>\n",
       "      <td>4960</td>\n",
       "      <td>1750</td>\n",
       "      <td>63</td>\n",
       "      <td>7973</td>\n",
       "      <td>5.768321</td>\n",
       "      <td>3.044522</td>\n",
       "      <td>7.090910</td>\n",
       "    </tr>\n",
       "    <tr>\n",
       "      <th>2</th>\n",
       "      <td>Porto Alegre</td>\n",
       "      <td>80</td>\n",
       "      <td>1</td>\n",
       "      <td>1</td>\n",
       "      <td>1</td>\n",
       "      <td>6</td>\n",
       "      <td>0</td>\n",
       "      <td>1</td>\n",
       "      <td>1000</td>\n",
       "      <td>2800</td>\n",
       "      <td>0</td>\n",
       "      <td>41</td>\n",
       "      <td>3841</td>\n",
       "      <td>4.382027</td>\n",
       "      <td>1.945910</td>\n",
       "      <td>6.908755</td>\n",
       "    </tr>\n",
       "    <tr>\n",
       "      <th>3</th>\n",
       "      <td>Porto Alegre</td>\n",
       "      <td>51</td>\n",
       "      <td>2</td>\n",
       "      <td>1</td>\n",
       "      <td>0</td>\n",
       "      <td>2</td>\n",
       "      <td>0</td>\n",
       "      <td>1</td>\n",
       "      <td>270</td>\n",
       "      <td>1112</td>\n",
       "      <td>22</td>\n",
       "      <td>17</td>\n",
       "      <td>1421</td>\n",
       "      <td>3.931826</td>\n",
       "      <td>1.098612</td>\n",
       "      <td>5.602119</td>\n",
       "    </tr>\n",
       "    <tr>\n",
       "      <th>4</th>\n",
       "      <td>São Paulo</td>\n",
       "      <td>25</td>\n",
       "      <td>1</td>\n",
       "      <td>1</td>\n",
       "      <td>0</td>\n",
       "      <td>1</td>\n",
       "      <td>1</td>\n",
       "      <td>1</td>\n",
       "      <td>0</td>\n",
       "      <td>800</td>\n",
       "      <td>25</td>\n",
       "      <td>11</td>\n",
       "      <td>836</td>\n",
       "      <td>3.218876</td>\n",
       "      <td>0.693147</td>\n",
       "      <td>0.000000</td>\n",
       "    </tr>\n",
       "  </tbody>\n",
       "</table>\n",
       "</div>"
      ],
      "text/plain": [
       "           city  area  rooms  bathroom  parking spaces  floor  animal  \\\n",
       "0     São Paulo    70      2         1               1      7       0   \n",
       "1     São Paulo   320      4         4               0     20       0   \n",
       "2  Porto Alegre    80      1         1               1      6       0   \n",
       "3  Porto Alegre    51      2         1               0      2       0   \n",
       "4     São Paulo    25      1         1               0      1       1   \n",
       "\n",
       "   furniture   hoa  rent amount  property tax  fire insurance  total  \\\n",
       "0          0  2065         3300           211              42   5618   \n",
       "1          1  1200         4960          1750              63   7973   \n",
       "2          1  1000         2800             0              41   3841   \n",
       "3          1   270         1112            22              17   1421   \n",
       "4          1     0          800            25              11    836   \n",
       "\n",
       "   log_area  log_floor   log_hoa  \n",
       "0  4.248495   2.079442  7.633370  \n",
       "1  5.768321   3.044522  7.090910  \n",
       "2  4.382027   1.945910  6.908755  \n",
       "3  3.931826   1.098612  5.602119  \n",
       "4  3.218876   0.693147  0.000000  "
      ]
     },
     "execution_count": 25,
     "metadata": {},
     "output_type": "execute_result"
    }
   ],
   "source": [
    "temp_df.head()"
   ]
  },
  {
   "cell_type": "markdown",
   "metadata": {},
   "source": [
    "Distribuição de frequências das variáveis transformada"
   ]
  },
  {
   "cell_type": "code",
   "execution_count": 58,
   "metadata": {},
   "outputs": [
    {
     "data": {
      "text/plain": [
       "<AxesSubplot:title={'center':'Distribuição de Frequências - Area'}, xlabel='Metros²', ylabel='Density'>"
      ]
     },
     "execution_count": 58,
     "metadata": {},
     "output_type": "execute_result"
    },
    {
     "data": {
      "image/png": "[encoded data removed]",
      "text/plain": [
       "<Figure size 720x432 with 1 Axes>"
      ]
     },
     "metadata": {
      "needs_background": "light"
     },
     "output_type": "display_data"
    }
   ],
   "source": [
    "ax = sns.distplot(temp_df.log_area, fit=scipy.stats.norm)\n",
    "ax.figure.set_size_inches(10, 6)\n",
    "ax.set_title('Distribuição de Frequências - Area', fontsize=18)\n",
    "ax.set_xlabel('Metros²', fontsize=14)\n",
    "ax"
   ]
  },
  {
   "cell_type": "code",
   "execution_count": 60,
   "metadata": {},
   "outputs": [
    {
     "data": {
      "text/plain": [
       "<AxesSubplot:title={'center':'Distribuição de Frequências - Andares'}, xlabel='Número de andares', ylabel='Density'>"
      ]
     },
     "execution_count": 60,
     "metadata": {},
     "output_type": "execute_result"
    },
    {
     "data": {
      "image/png": "[encoded data removed]",
      "text/plain": [
       "<Figure size 864x432 with 1 Axes>"
      ]
     },
     "metadata": {
      "needs_background": "light"
     },
     "output_type": "display_data"
    }
   ],
   "source": [
    "ax = sns.distplot(temp_df.log_floor)\n",
    "ax.figure.set_size_inches(12, 6)\n",
    "ax.set_title('Distribuição de Frequências - Andares', fontsize=18)\n",
    "ax.set_xlabel('Número de andares', fontsize=14)\n",
    "ax"
   ]
  },
  {
   "cell_type": "code",
   "execution_count": 62,
   "metadata": {},
   "outputs": [
    {
     "data": {
      "text/plain": [
       "<AxesSubplot:title={'center':'Distribuição de Frequências - Valor do condominio (hoa)'}, xlabel='Reais (R$)', ylabel='Density'>"
      ]
     },
     "execution_count": 62,
     "metadata": {},
     "output_type": "execute_result"
    },
    {
     "data": {
      "image/png": "[encoded data removed]",
      "text/plain": [
       "<Figure size 864x432 with 1 Axes>"
      ]
     },
     "metadata": {
      "needs_background": "light"
     },
     "output_type": "display_data"
    }
   ],
   "source": [
    "ax = sns.distplot(temp_df.log_hoa)\n",
    "ax.figure.set_size_inches(12, 6)\n",
    "ax.set_title('Distribuição de Frequências - Valor do condominio (hoa)', fontsize=18)\n",
    "ax.set_xlabel('Reais (R$)', fontsize=14)\n",
    "ax"
   ]
  },
  {
   "cell_type": "markdown",
   "metadata": {},
   "source": [
    "Através das distribuições de frequência de cada coluna estudada é possível perceber que apenas os dados de área (coluna “area”) se aproximam de uma distribuição normal. Iremos aplicar o método Z-score para os dados da área. Para as colunas de “floor” e “hoa” que não se aproximaram de uma distribuição normal vamos aplicar o método Isolation Forests."
   ]
  },
  {
   "cell_type": "markdown",
   "metadata": {},
   "source": [
    "### Implementando o método Z-score para coluna \"area\""
   ]
  },
  {
   "cell_type": "markdown",
   "metadata": {},
   "source": [
    "A Z-score de uma observação é uma métrica que indica quantos desvios padrão um ponto de dados está da média da amostra, assumindo uma distribuição gaussiana. Calculando o z-score para cada amostra no conjunto de dados. "
   ]
  },
  {
   "cell_type": "code",
   "execution_count": 63,
   "metadata": {},
   "outputs": [
    {
     "data": {
      "text/html": [
       "<div>\n",
       "<style scoped>\n",
       "    .dataframe tbody tr th:only-of-type {\n",
       "        vertical-align: middle;\n",
       "    }\n",
       "\n",
       "    .dataframe tbody tr th {\n",
       "        vertical-align: top;\n",
       "    }\n",
       "\n",
       "    .dataframe thead th {\n",
       "        text-align: right;\n",
       "    }\n",
       "</style>\n",
       "<table border=\"1\" class=\"dataframe\">\n",
       "  <thead>\n",
       "    <tr style=\"text-align: right;\">\n",
       "      <th></th>\n",
       "      <th>city</th>\n",
       "      <th>area</th>\n",
       "      <th>rooms</th>\n",
       "      <th>bathroom</th>\n",
       "      <th>parking spaces</th>\n",
       "      <th>floor</th>\n",
       "      <th>animal</th>\n",
       "      <th>furniture</th>\n",
       "      <th>hoa</th>\n",
       "      <th>rent amount</th>\n",
       "      <th>property tax</th>\n",
       "      <th>fire insurance</th>\n",
       "      <th>total</th>\n",
       "      <th>log_area</th>\n",
       "      <th>log_floor</th>\n",
       "      <th>log_hoa</th>\n",
       "      <th>zscore</th>\n",
       "    </tr>\n",
       "  </thead>\n",
       "  <tbody>\n",
       "    <tr>\n",
       "      <th>0</th>\n",
       "      <td>São Paulo</td>\n",
       "      <td>70</td>\n",
       "      <td>2</td>\n",
       "      <td>1</td>\n",
       "      <td>1</td>\n",
       "      <td>7</td>\n",
       "      <td>0</td>\n",
       "      <td>0</td>\n",
       "      <td>2065</td>\n",
       "      <td>3300</td>\n",
       "      <td>211</td>\n",
       "      <td>42</td>\n",
       "      <td>5618</td>\n",
       "      <td>4.248495</td>\n",
       "      <td>2.079442</td>\n",
       "      <td>7.633370</td>\n",
       "      <td>-0.462526</td>\n",
       "    </tr>\n",
       "    <tr>\n",
       "      <th>1</th>\n",
       "      <td>São Paulo</td>\n",
       "      <td>320</td>\n",
       "      <td>4</td>\n",
       "      <td>4</td>\n",
       "      <td>0</td>\n",
       "      <td>20</td>\n",
       "      <td>0</td>\n",
       "      <td>1</td>\n",
       "      <td>1200</td>\n",
       "      <td>4960</td>\n",
       "      <td>1750</td>\n",
       "      <td>63</td>\n",
       "      <td>7973</td>\n",
       "      <td>5.768321</td>\n",
       "      <td>3.044522</td>\n",
       "      <td>7.090910</td>\n",
       "      <td>1.428222</td>\n",
       "    </tr>\n",
       "    <tr>\n",
       "      <th>2</th>\n",
       "      <td>Porto Alegre</td>\n",
       "      <td>80</td>\n",
       "      <td>1</td>\n",
       "      <td>1</td>\n",
       "      <td>1</td>\n",
       "      <td>6</td>\n",
       "      <td>0</td>\n",
       "      <td>1</td>\n",
       "      <td>1000</td>\n",
       "      <td>2800</td>\n",
       "      <td>0</td>\n",
       "      <td>41</td>\n",
       "      <td>3841</td>\n",
       "      <td>4.382027</td>\n",
       "      <td>1.945910</td>\n",
       "      <td>6.908755</td>\n",
       "      <td>-0.296406</td>\n",
       "    </tr>\n",
       "    <tr>\n",
       "      <th>3</th>\n",
       "      <td>Porto Alegre</td>\n",
       "      <td>51</td>\n",
       "      <td>2</td>\n",
       "      <td>1</td>\n",
       "      <td>0</td>\n",
       "      <td>2</td>\n",
       "      <td>0</td>\n",
       "      <td>1</td>\n",
       "      <td>270</td>\n",
       "      <td>1112</td>\n",
       "      <td>22</td>\n",
       "      <td>17</td>\n",
       "      <td>1421</td>\n",
       "      <td>3.931826</td>\n",
       "      <td>1.098612</td>\n",
       "      <td>5.602119</td>\n",
       "      <td>-0.856481</td>\n",
       "    </tr>\n",
       "    <tr>\n",
       "      <th>4</th>\n",
       "      <td>São Paulo</td>\n",
       "      <td>25</td>\n",
       "      <td>1</td>\n",
       "      <td>1</td>\n",
       "      <td>0</td>\n",
       "      <td>1</td>\n",
       "      <td>1</td>\n",
       "      <td>1</td>\n",
       "      <td>0</td>\n",
       "      <td>800</td>\n",
       "      <td>25</td>\n",
       "      <td>11</td>\n",
       "      <td>836</td>\n",
       "      <td>3.218876</td>\n",
       "      <td>0.693147</td>\n",
       "      <td>0.000000</td>\n",
       "      <td>-1.743430</td>\n",
       "    </tr>\n",
       "  </tbody>\n",
       "</table>\n",
       "</div>"
      ],
      "text/plain": [
       "           city  area  rooms  bathroom  parking spaces  floor  animal  \\\n",
       "0     São Paulo    70      2         1               1      7       0   \n",
       "1     São Paulo   320      4         4               0     20       0   \n",
       "2  Porto Alegre    80      1         1               1      6       0   \n",
       "3  Porto Alegre    51      2         1               0      2       0   \n",
       "4     São Paulo    25      1         1               0      1       1   \n",
       "\n",
       "   furniture   hoa  rent amount  property tax  fire insurance  total  \\\n",
       "0          0  2065         3300           211              42   5618   \n",
       "1          1  1200         4960          1750              63   7973   \n",
       "2          1  1000         2800             0              41   3841   \n",
       "3          1   270         1112            22              17   1421   \n",
       "4          1     0          800            25              11    836   \n",
       "\n",
       "   log_area  log_floor   log_hoa    zscore  \n",
       "0  4.248495   2.079442  7.633370 -0.462526  \n",
       "1  5.768321   3.044522  7.090910  1.428222  \n",
       "2  4.382027   1.945910  6.908755 -0.296406  \n",
       "3  3.931826   1.098612  5.602119 -0.856481  \n",
       "4  3.218876   0.693147  0.000000 -1.743430  "
      ]
     },
     "execution_count": 63,
     "metadata": {},
     "output_type": "execute_result"
    }
   ],
   "source": [
    "media = temp_df['log_area'].mean()\n",
    "desvio_padrao = temp_df['log_area'].std()\n",
    "temp_df['zscore'] = (temp_df['log_area'] - media) / desvio_padrao\n",
    "\n",
    "temp_df.head(5)\n"
   ]
  },
  {
   "cell_type": "markdown",
   "metadata": {},
   "source": [
    "Analisando visualmente os dados que possuem Z-Score maior que 3 percebemos que não é algo anormal um imovel com 2000 m², logo, vamos escolher um valor superior para o Z-Score que estes casos."
   ]
  },
  {
   "cell_type": "code",
   "execution_count": 64,
   "metadata": {},
   "outputs": [
    {
     "data": {
      "text/html": [
       "<div>\n",
       "<style scoped>\n",
       "    .dataframe tbody tr th:only-of-type {\n",
       "        vertical-align: middle;\n",
       "    }\n",
       "\n",
       "    .dataframe tbody tr th {\n",
       "        vertical-align: top;\n",
       "    }\n",
       "\n",
       "    .dataframe thead th {\n",
       "        text-align: right;\n",
       "    }\n",
       "</style>\n",
       "<table border=\"1\" class=\"dataframe\">\n",
       "  <thead>\n",
       "    <tr style=\"text-align: right;\">\n",
       "      <th></th>\n",
       "      <th>city</th>\n",
       "      <th>area</th>\n",
       "      <th>rooms</th>\n",
       "      <th>bathroom</th>\n",
       "      <th>parking spaces</th>\n",
       "      <th>floor</th>\n",
       "      <th>animal</th>\n",
       "      <th>furniture</th>\n",
       "      <th>hoa</th>\n",
       "      <th>rent amount</th>\n",
       "      <th>property tax</th>\n",
       "      <th>fire insurance</th>\n",
       "      <th>total</th>\n",
       "      <th>log_area</th>\n",
       "      <th>log_floor</th>\n",
       "      <th>log_hoa</th>\n",
       "      <th>zscore</th>\n",
       "    </tr>\n",
       "  </thead>\n",
       "  <tbody>\n",
       "    <tr>\n",
       "      <th>654</th>\n",
       "      <td>São Paulo</td>\n",
       "      <td>1600</td>\n",
       "      <td>6</td>\n",
       "      <td>6</td>\n",
       "      <td>6</td>\n",
       "      <td>0</td>\n",
       "      <td>0</td>\n",
       "      <td>0</td>\n",
       "      <td>0</td>\n",
       "      <td>7600</td>\n",
       "      <td>1834</td>\n",
       "      <td>115</td>\n",
       "      <td>9549</td>\n",
       "      <td>7.377759</td>\n",
       "      <td>0.000000</td>\n",
       "      <td>0.000000</td>\n",
       "      <td>3.430452</td>\n",
       "    </tr>\n",
       "    <tr>\n",
       "      <th>2397</th>\n",
       "      <td>Belo Horizonte</td>\n",
       "      <td>46335</td>\n",
       "      <td>4</td>\n",
       "      <td>8</td>\n",
       "      <td>5</td>\n",
       "      <td>11</td>\n",
       "      <td>0</td>\n",
       "      <td>0</td>\n",
       "      <td>960</td>\n",
       "      <td>8500</td>\n",
       "      <td>646</td>\n",
       "      <td>114</td>\n",
       "      <td>10220</td>\n",
       "      <td>10.743653</td>\n",
       "      <td>2.484907</td>\n",
       "      <td>6.867974</td>\n",
       "      <td>7.617811</td>\n",
       "    </tr>\n",
       "    <tr>\n",
       "      <th>4813</th>\n",
       "      <td>São Paulo</td>\n",
       "      <td>1600</td>\n",
       "      <td>4</td>\n",
       "      <td>5</td>\n",
       "      <td>12</td>\n",
       "      <td>0</td>\n",
       "      <td>0</td>\n",
       "      <td>1</td>\n",
       "      <td>1</td>\n",
       "      <td>6900</td>\n",
       "      <td>5000</td>\n",
       "      <td>104</td>\n",
       "      <td>12010</td>\n",
       "      <td>7.377759</td>\n",
       "      <td>0.000000</td>\n",
       "      <td>0.693147</td>\n",
       "      <td>3.430452</td>\n",
       "    </tr>\n",
       "    <tr>\n",
       "      <th>5129</th>\n",
       "      <td>Belo Horizonte</td>\n",
       "      <td>2000</td>\n",
       "      <td>4</td>\n",
       "      <td>2</td>\n",
       "      <td>3</td>\n",
       "      <td>0</td>\n",
       "      <td>0</td>\n",
       "      <td>1</td>\n",
       "      <td>0</td>\n",
       "      <td>4956</td>\n",
       "      <td>200</td>\n",
       "      <td>82</td>\n",
       "      <td>5238</td>\n",
       "      <td>7.600902</td>\n",
       "      <td>0.000000</td>\n",
       "      <td>0.000000</td>\n",
       "      <td>3.708055</td>\n",
       "    </tr>\n",
       "    <tr>\n",
       "      <th>5915</th>\n",
       "      <td>São Paulo</td>\n",
       "      <td>24606</td>\n",
       "      <td>5</td>\n",
       "      <td>4</td>\n",
       "      <td>4</td>\n",
       "      <td>12</td>\n",
       "      <td>0</td>\n",
       "      <td>1</td>\n",
       "      <td>2254</td>\n",
       "      <td>8100</td>\n",
       "      <td>7859</td>\n",
       "      <td>103</td>\n",
       "      <td>18320</td>\n",
       "      <td>10.110746</td>\n",
       "      <td>2.564949</td>\n",
       "      <td>7.720905</td>\n",
       "      <td>6.830439</td>\n",
       "    </tr>\n",
       "    <tr>\n",
       "      <th>8790</th>\n",
       "      <td>Belo Horizonte</td>\n",
       "      <td>2000</td>\n",
       "      <td>3</td>\n",
       "      <td>3</td>\n",
       "      <td>2</td>\n",
       "      <td>2</td>\n",
       "      <td>0</td>\n",
       "      <td>0</td>\n",
       "      <td>3000</td>\n",
       "      <td>5000</td>\n",
       "      <td>200</td>\n",
       "      <td>67</td>\n",
       "      <td>8267</td>\n",
       "      <td>7.600902</td>\n",
       "      <td>1.098612</td>\n",
       "      <td>8.006701</td>\n",
       "      <td>3.708055</td>\n",
       "    </tr>\n",
       "    <tr>\n",
       "      <th>9241</th>\n",
       "      <td>Campinas</td>\n",
       "      <td>12732</td>\n",
       "      <td>3</td>\n",
       "      <td>2</td>\n",
       "      <td>0</td>\n",
       "      <td>3</td>\n",
       "      <td>0</td>\n",
       "      <td>1</td>\n",
       "      <td>700</td>\n",
       "      <td>1600</td>\n",
       "      <td>96</td>\n",
       "      <td>21</td>\n",
       "      <td>2417</td>\n",
       "      <td>9.451874</td>\n",
       "      <td>1.386294</td>\n",
       "      <td>6.552508</td>\n",
       "      <td>6.010766</td>\n",
       "    </tr>\n",
       "  </tbody>\n",
       "</table>\n",
       "</div>"
      ],
      "text/plain": [
       "                city   area  rooms  bathroom  parking spaces  floor  animal  \\\n",
       "654        São Paulo   1600      6         6               6      0       0   \n",
       "2397  Belo Horizonte  46335      4         8               5     11       0   \n",
       "4813       São Paulo   1600      4         5              12      0       0   \n",
       "5129  Belo Horizonte   2000      4         2               3      0       0   \n",
       "5915       São Paulo  24606      5         4               4     12       0   \n",
       "8790  Belo Horizonte   2000      3         3               2      2       0   \n",
       "9241        Campinas  12732      3         2               0      3       0   \n",
       "\n",
       "      furniture   hoa  rent amount  property tax  fire insurance  total  \\\n",
       "654           0     0         7600          1834             115   9549   \n",
       "2397          0   960         8500           646             114  10220   \n",
       "4813          1     1         6900          5000             104  12010   \n",
       "5129          1     0         4956           200              82   5238   \n",
       "5915          1  2254         8100          7859             103  18320   \n",
       "8790          0  3000         5000           200              67   8267   \n",
       "9241          1   700         1600            96              21   2417   \n",
       "\n",
       "       log_area  log_floor   log_hoa    zscore  \n",
       "654    7.377759   0.000000  0.000000  3.430452  \n",
       "2397  10.743653   2.484907  6.867974  7.617811  \n",
       "4813   7.377759   0.000000  0.693147  3.430452  \n",
       "5129   7.600902   0.000000  0.000000  3.708055  \n",
       "5915  10.110746   2.564949  7.720905  6.830439  \n",
       "8790   7.600902   1.098612  8.006701  3.708055  \n",
       "9241   9.451874   1.386294  6.552508  6.010766  "
      ]
     },
     "execution_count": 64,
     "metadata": {},
     "output_type": "execute_result"
    }
   ],
   "source": [
    "temp_df.query('zscore > 3')"
   ]
  },
  {
   "cell_type": "markdown",
   "metadata": {},
   "source": [
    "Definido um limite de 'regra de polegar' em 3.8 desvios padrão para remoção dos dados, vamos então remover os dados supeior a este valor no dataset:"
   ]
  },
  {
   "cell_type": "code",
   "execution_count": 65,
   "metadata": {},
   "outputs": [],
   "source": [
    "selecao = temp_df['zscore'] < 3.8\n",
    "dataset = dataset[selecao]"
   ]
  },
  {
   "cell_type": "markdown",
   "metadata": {},
   "source": [
    "### Utilizando o Isolation Forest para as colunas 'floor' e 'hoa'"
   ]
  },
  {
   "cell_type": "code",
   "execution_count": 66,
   "metadata": {},
   "outputs": [
    {
     "data": {
      "text/html": [
       "<div>\n",
       "<style scoped>\n",
       "    .dataframe tbody tr th:only-of-type {\n",
       "        vertical-align: middle;\n",
       "    }\n",
       "\n",
       "    .dataframe tbody tr th {\n",
       "        vertical-align: top;\n",
       "    }\n",
       "\n",
       "    .dataframe thead th {\n",
       "        text-align: right;\n",
       "    }\n",
       "</style>\n",
       "<table border=\"1\" class=\"dataframe\">\n",
       "  <thead>\n",
       "    <tr style=\"text-align: right;\">\n",
       "      <th></th>\n",
       "      <th>area</th>\n",
       "      <th>rooms</th>\n",
       "      <th>bathroom</th>\n",
       "      <th>parking spaces</th>\n",
       "      <th>floor</th>\n",
       "      <th>animal</th>\n",
       "      <th>furniture</th>\n",
       "      <th>hoa</th>\n",
       "      <th>rent amount</th>\n",
       "      <th>property tax</th>\n",
       "      <th>fire insurance</th>\n",
       "      <th>total</th>\n",
       "    </tr>\n",
       "  </thead>\n",
       "  <tbody>\n",
       "    <tr>\n",
       "      <th>0</th>\n",
       "      <td>70</td>\n",
       "      <td>2</td>\n",
       "      <td>1</td>\n",
       "      <td>1</td>\n",
       "      <td>7</td>\n",
       "      <td>0</td>\n",
       "      <td>0</td>\n",
       "      <td>2065</td>\n",
       "      <td>3300</td>\n",
       "      <td>211</td>\n",
       "      <td>42</td>\n",
       "      <td>5618</td>\n",
       "    </tr>\n",
       "    <tr>\n",
       "      <th>1</th>\n",
       "      <td>320</td>\n",
       "      <td>4</td>\n",
       "      <td>4</td>\n",
       "      <td>0</td>\n",
       "      <td>20</td>\n",
       "      <td>0</td>\n",
       "      <td>1</td>\n",
       "      <td>1200</td>\n",
       "      <td>4960</td>\n",
       "      <td>1750</td>\n",
       "      <td>63</td>\n",
       "      <td>7973</td>\n",
       "    </tr>\n",
       "    <tr>\n",
       "      <th>2</th>\n",
       "      <td>80</td>\n",
       "      <td>1</td>\n",
       "      <td>1</td>\n",
       "      <td>1</td>\n",
       "      <td>6</td>\n",
       "      <td>0</td>\n",
       "      <td>1</td>\n",
       "      <td>1000</td>\n",
       "      <td>2800</td>\n",
       "      <td>0</td>\n",
       "      <td>41</td>\n",
       "      <td>3841</td>\n",
       "    </tr>\n",
       "    <tr>\n",
       "      <th>3</th>\n",
       "      <td>51</td>\n",
       "      <td>2</td>\n",
       "      <td>1</td>\n",
       "      <td>0</td>\n",
       "      <td>2</td>\n",
       "      <td>0</td>\n",
       "      <td>1</td>\n",
       "      <td>270</td>\n",
       "      <td>1112</td>\n",
       "      <td>22</td>\n",
       "      <td>17</td>\n",
       "      <td>1421</td>\n",
       "    </tr>\n",
       "    <tr>\n",
       "      <th>4</th>\n",
       "      <td>25</td>\n",
       "      <td>1</td>\n",
       "      <td>1</td>\n",
       "      <td>0</td>\n",
       "      <td>1</td>\n",
       "      <td>1</td>\n",
       "      <td>1</td>\n",
       "      <td>0</td>\n",
       "      <td>800</td>\n",
       "      <td>25</td>\n",
       "      <td>11</td>\n",
       "      <td>836</td>\n",
       "    </tr>\n",
       "  </tbody>\n",
       "</table>\n",
       "</div>"
      ],
      "text/plain": [
       "   area  rooms  bathroom  parking spaces  floor  animal  furniture   hoa  \\\n",
       "0    70      2         1               1      7       0          0  2065   \n",
       "1   320      4         4               0     20       0          1  1200   \n",
       "2    80      1         1               1      6       0          1  1000   \n",
       "3    51      2         1               0      2       0          1   270   \n",
       "4    25      1         1               0      1       1          1     0   \n",
       "\n",
       "   rent amount  property tax  fire insurance  total  \n",
       "0         3300           211              42   5618  \n",
       "1         4960          1750              63   7973  \n",
       "2         2800             0              41   3841  \n",
       "3         1112            22              17   1421  \n",
       "4          800            25              11    836  "
      ]
     },
     "execution_count": 66,
     "metadata": {},
     "output_type": "execute_result"
    }
   ],
   "source": [
    "temp_df = dataset.copy().drop('city', axis=1)\n",
    "temp_df.head()"
   ]
  },
  {
   "cell_type": "markdown",
   "metadata": {},
   "source": [
    "utilizando a bibliotea sklearn para treinar o modelo através do IsolationForest:"
   ]
  },
  {
   "cell_type": "code",
   "execution_count": 67,
   "metadata": {},
   "outputs": [
    {
     "data": {
      "text/plain": [
       "IsolationForest(contamination=0.01, max_features=12, n_estimators=1000)"
      ]
     },
     "execution_count": 67,
     "metadata": {},
     "output_type": "execute_result"
    }
   ],
   "source": [
    "# contamination: proporção de valores discrepantes no conjunto de dados (para float, a contaminação deve estar na faixa (0, 0,5] segundo documentação)\n",
    "# n_estimators: número de estimadores de base no conjunto.\n",
    "model = IsolationForest(contamination=0.01, max_features=temp_df.shape[1], n_estimators=1000)\n",
    "model.fit(temp_df)"
   ]
  },
  {
   "cell_type": "markdown",
   "metadata": {},
   "source": [
    "Com o modelo treinado foi criado uma coluna chamada 'iforest' onde seus valores são binários que representa se é 1 = Outlier e 0 = Não Outlier"
   ]
  },
  {
   "cell_type": "code",
   "execution_count": 111,
   "metadata": {},
   "outputs": [
    {
     "data": {
      "text/plain": [
       "0.0    10579\n",
       "1.0      107\n",
       "Name: iforest, dtype: int64"
      ]
     },
     "execution_count": 111,
     "metadata": {},
     "output_type": "execute_result"
    }
   ],
   "source": [
    "dataset['iforest'] = pd.Series(model.predict(temp_df))\n",
    "dataset['iforest'] = dataset['iforest'].map({1: 0, -1: 1})\n",
    "dataset['iforest'].value_counts()"
   ]
  },
  {
   "cell_type": "markdown",
   "metadata": {},
   "source": [
    "Verificando visualmente os dados que não são Outliers:"
   ]
  },
  {
   "cell_type": "code",
   "execution_count": 112,
   "metadata": {},
   "outputs": [
    {
     "data": {
      "text/plain": [
       "<AxesSubplot:title={'center':'Boxplot - FLOOR'}, xlabel='Número de andares'>"
      ]
     },
     "execution_count": 112,
     "metadata": {},
     "output_type": "execute_result"
    },
    {
     "data": {
      "image/png": "[encoded data removed]",
      "text/plain": [
       "<Figure size 864x288 with 1 Axes>"
      ]
     },
     "metadata": {
      "needs_background": "light"
     },
     "output_type": "display_data"
    }
   ],
   "source": [
    "ax = sns.boxplot( x = 'floor', data = dataset.query('iforest == 0'), orient = 'h')\n",
    "ax.figure.set_size_inches(12, 4)\n",
    "ax.set_title('Boxplot - FLOOR', fontsize=18)\n",
    "ax.set_xlabel('Número de andares', fontsize=14)\n",
    "ax"
   ]
  },
  {
   "cell_type": "code",
   "execution_count": 113,
   "metadata": {},
   "outputs": [
    {
     "data": {
      "text/plain": [
       "<AxesSubplot:title={'center':'Boxplot - HOA'}, xlabel='Valor do condominio (R$)'>"
      ]
     },
     "execution_count": 113,
     "metadata": {},
     "output_type": "execute_result"
    },
    {
     "data": {
      "image/png": "[encoded data removed]",
      "text/plain": [
       "<Figure size 864x288 with 1 Axes>"
      ]
     },
     "metadata": {
      "needs_background": "light"
     },
     "output_type": "display_data"
    }
   ],
   "source": [
    "ax = sns.boxplot( x = 'hoa', data = dataset.query('iforest == 0'), orient = 'h')\n",
    "ax.figure.set_size_inches(12, 4)\n",
    "ax.set_title('Boxplot - HOA', fontsize=18)\n",
    "ax.set_xlabel('Valor do condominio (R$)', fontsize=14)\n",
    "ax"
   ]
  },
  {
   "cell_type": "markdown",
   "metadata": {},
   "source": [
    "#### Tentativa 2 de utilizar o IsolationForest"
   ]
  },
  {
   "cell_type": "markdown",
   "metadata": {},
   "source": [
    "Definindo os elementos de entrada e saída do modelo:"
   ]
  },
  {
   "cell_type": "code",
   "execution_count": 131,
   "metadata": {},
   "outputs": [],
   "source": [
    "X, y = temp_df.iloc[:,:].drop(['animal', 'furniture', 'floor'], axis=1), dataset['floor']"
   ]
  },
  {
   "cell_type": "markdown",
   "metadata": {},
   "source": [
    "Dividindo o conjunto em treinamento e teste:"
   ]
  },
  {
   "cell_type": "code",
   "execution_count": 132,
   "metadata": {},
   "outputs": [],
   "source": [
    "# test_size representa a proporção do conjunto de dados a ser incluído na divisão de teste\n",
    "# random_state (Seed) controla o embaralhamento aplicado aos dados antes de aplicar a divisão\n",
    "X_train, X_test, y_train, y_test = train_test_split(X, y, test_size=0.33, random_state=1)"
   ]
  },
  {
   "cell_type": "markdown",
   "metadata": {},
   "source": [
    "Analisando o tamanho dos dados antes da remoção das Outlines"
   ]
  },
  {
   "cell_type": "code",
   "execution_count": 133,
   "metadata": {},
   "outputs": [
    {
     "name": "stdout",
     "output_type": "stream",
     "text": [
      "(7161, 9) (7161,)\n"
     ]
    }
   ],
   "source": [
    "print(X_train.shape, y_train.shape)"
   ]
  },
  {
   "cell_type": "markdown",
   "metadata": {},
   "source": [
    "Identificação das Outliers nos dados de treino:"
   ]
  },
  {
   "cell_type": "code",
   "execution_count": 134,
   "metadata": {},
   "outputs": [],
   "source": [
    "# contamination é a proporção de valores discrepantes no conjunto de dados (para float, a contaminação deve estar na faixa (0, 0,5] segundo documentação)\n",
    "model = IsolationForest(contamination=0.01)\n",
    "yhat = model.fit_predict(X_train)"
   ]
  },
  {
   "cell_type": "markdown",
   "metadata": {},
   "source": [
    "Selecionando todas as linhas que não são Outliers:"
   ]
  },
  {
   "cell_type": "code",
   "execution_count": 135,
   "metadata": {},
   "outputs": [],
   "source": [
    "mask = yhat != -1\n",
    "X_train, y_train = X_train[mask], y_train[mask]"
   ]
  },
  {
   "cell_type": "code",
   "execution_count": 136,
   "metadata": {},
   "outputs": [
    {
     "name": "stdout",
     "output_type": "stream",
     "text": [
      "(7089, 9) (7089,)\n"
     ]
    }
   ],
   "source": [
    "# summarize the shape of the updated training dataset\n",
    "print(X_train.shape, y_train.shape)"
   ]
  },
  {
   "cell_type": "code",
   "execution_count": 137,
   "metadata": {},
   "outputs": [
    {
     "data": {
      "text/plain": [
       "<AxesSubplot:title={'center':'Boxplot - FLOOR'}, xlabel='Número de andares'>"
      ]
     },
     "execution_count": 137,
     "metadata": {},
     "output_type": "execute_result"
    },
    {
     "data": {
      "image/png": "[encoded data removed]",
      "text/plain": [
       "<Figure size 864x288 with 1 Axes>"
      ]
     },
     "metadata": {
      "needs_background": "light"
     },
     "output_type": "display_data"
    }
   ],
   "source": [
    "ax = sns.boxplot( x = 'floor', data = X_train, orient = 'h')\n",
    "ax.figure.set_size_inches(12, 4)\n",
    "ax.set_title('Boxplot - FLOOR', fontsize=18)\n",
    "ax.set_xlabel('Número de andares', fontsize=14)\n",
    "ax"
   ]
  },
  {
   "cell_type": "code",
   "execution_count": 138,
   "metadata": {},
   "outputs": [
    {
     "data": {
      "text/plain": [
       "<AxesSubplot:title={'center':'Boxplot - HOA'}, xlabel='Valor do condominio (R$)'>"
      ]
     },
     "execution_count": 138,
     "metadata": {},
     "output_type": "execute_result"
    },
    {
     "data": {
      "image/png": "[encoded data removed]",
      "text/plain": [
       "<Figure size 864x288 with 1 Axes>"
      ]
     },
     "metadata": {
      "needs_background": "light"
     },
     "output_type": "display_data"
    }
   ],
   "source": [
    "ax = sns.boxplot( x = 'hoa', data = X_train, orient = 'h')\n",
    "ax.figure.set_size_inches(12, 4)\n",
    "ax.set_title('Boxplot - HOA', fontsize=18)\n",
    "ax.set_xlabel('Valor do condominio (R$)', fontsize=14)\n",
    "ax"
   ]
  },
  {
   "cell_type": "code",
   "execution_count": 109,
   "metadata": {},
   "outputs": [
    {
     "data": {
      "text/plain": [
       "array([  0,   1,   2,   3,   4,   5,   6,   7,   8,   9,  10,  11,  12,\n",
       "        13,  14,  15,  16,  17,  18,  19,  20,  21,  22,  23,  24,  25,\n",
       "        26,  27,  28,  29,  32,  35,  51, 301], dtype=int64)"
      ]
     },
     "execution_count": 109,
     "metadata": {},
     "output_type": "execute_result"
    }
   ],
   "source": [
    "np.sort(y_train.unique())"
   ]
  },
  {
   "cell_type": "code",
   "execution_count": 91,
   "metadata": {},
   "outputs": [
    {
     "data": {
      "text/plain": [
       "array([  0,   1,   2,   3,   4,   5,   6,   7,   8,   9,  10,  11,  12,\n",
       "        13,  14,  15,  16,  17,  18,  19,  20,  21,  22,  23,  24,  25,\n",
       "        26,  27,  28,  29,  32,  35,  46,  51, 301], dtype=int64)"
      ]
     },
     "execution_count": 91,
     "metadata": {},
     "output_type": "execute_result"
    }
   ],
   "source": [
    "np.sort(dataset.floor.unique())"
   ]
  },
  {
   "cell_type": "markdown",
   "metadata": {},
   "source": [
    "## Salvando as alterações em um novo arquivo csv"
   ]
  },
  {
   "cell_type": "code",
   "execution_count": null,
   "metadata": {},
   "outputs": [],
   "source": [
    "dataset.to_csv('houses_to_rent_analisado.csv', sep=',', index=False)"
   ]
  }
 ],
 "metadata": {
  "interpreter": {
   "hash": "bc6c2ff63dcdddcc2d27b408a64ac52e3aa133c5afda915cfd5d04dbeee1e333"
  },
  "kernelspec": {
   "display_name": "Python 3.8.8 ('base')",
   "language": "python",
   "name": "python3"
  },
  "language_info": {
   "codemirror_mode": {
    "name": "ipython",
    "version": 3
   },
   "file_extension": ".py",
   "mimetype": "text/x-python",
   "name": "python",
   "nbconvert_exporter": "python",
   "pygments_lexer": "ipython3",
   "version": "3.8.8"
  },
  "orig_nbformat": 4
 },
 "nbformat": 4,
 "nbformat_minor": 2
}
